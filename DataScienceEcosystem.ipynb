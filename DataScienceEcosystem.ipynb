{
 "cells": [
  {
   "cell_type": "markdown",
   "id": "475716a3",
   "metadata": {},
   "source": [
    "# Data science tools and ecosystem\n"
   ]
  },
  {
   "cell_type": "markdown",
   "id": "255c1fdb",
   "metadata": {},
   "source": [
    "### In this notebook, Data Science Tools and Ecosystem are summarized."
   ]
  },
  {
   "cell_type": "markdown",
   "id": "40b543cd",
   "metadata": {},
   "source": [
    "## __Objectives:__"
   ]
  },
  {
   "cell_type": "markdown",
   "id": "9d16aa96",
   "metadata": {},
   "source": [
    "-  List popular languages for Data Science\n",
    "-  commonly used libraries used by Data Scientists include\n",
    "-  how to make table\n",
    "-  how to list item in order or in unorderred way"
   ]
  },
  {
   "cell_type": "markdown",
   "id": "f10a1e2b",
   "metadata": {},
   "source": [
    "### Some of the popular languages that Data Scientists use are:"
   ]
  },
  {
   "cell_type": "markdown",
   "id": "6b36ea2b",
   "metadata": {},
   "source": [
    "1. python\n",
    "2. R\n",
    "3. julia"
   ]
  },
  {
   "cell_type": "markdown",
   "id": "fbfdf980",
   "metadata": {},
   "source": [
    "### Some of the commonly used libraries used by Data Scientists include:"
   ]
  },
  {
   "cell_type": "markdown",
   "id": "fc2578eb",
   "metadata": {},
   "source": [
    "1. numpy\n",
    "2. pandas\n",
    "3. matplotlib\n",
    "4. seaborn"
   ]
  },
  {
   "cell_type": "markdown",
   "id": "789d0d91",
   "metadata": {},
   "source": [
    "### Data Science Tools"
   ]
  },
  {
   "cell_type": "markdown",
   "id": "44a401fe",
   "metadata": {},
   "source": [
    "|Data science tools|\n",
    "|------------------|\n",
    "|python|\n",
    "|jupyter notebook|\n",
    "|numpy|\n",
    "|panda|"
   ]
  },
  {
   "cell_type": "markdown",
   "id": "2bbd6ed6",
   "metadata": {},
   "source": [
    "### arithmetic expression examples:"
   ]
  },
  {
   "cell_type": "markdown",
   "id": "b31616ca",
   "metadata": {},
   "source": [
    "### Below are a few examples of evaluating arithmetic expressions in Python:"
   ]
  },
  {
   "cell_type": "code",
   "execution_count": 1,
   "id": "28ce66dc",
   "metadata": {},
   "outputs": [
    {
     "data": {
      "text/plain": [
       "17"
      ]
     },
     "execution_count": 1,
     "metadata": {},
     "output_type": "execute_result"
    }
   ],
   "source": [
    "# This a simple arithmetic expression to mutiply then add integers\n",
    "(3*4)+5"
   ]
  },
  {
   "cell_type": "code",
   "execution_count": 2,
   "id": "7b8b81ba",
   "metadata": {},
   "outputs": [
    {
     "data": {
      "text/plain": [
       "3.3333333333333335"
      ]
     },
     "execution_count": 2,
     "metadata": {},
     "output_type": "execute_result"
    }
   ],
   "source": [
    "#This will convert 200 minutes to hours by diving by 60.\n",
    "200/60"
   ]
  },
  {
   "cell_type": "markdown",
   "id": "f9855a90",
   "metadata": {},
   "source": [
    "## Author\n",
    " akash deokar"
   ]
  }
 ],
 "metadata": {
  "kernelspec": {
   "display_name": "Python 3 (ipykernel)",
   "language": "python",
   "name": "python3"
  },
  "language_info": {
   "codemirror_mode": {
    "name": "ipython",
    "version": 3
   },
   "file_extension": ".py",
   "mimetype": "text/x-python",
   "name": "python",
   "nbconvert_exporter": "python",
   "pygments_lexer": "ipython3",
   "version": "3.10.9"
  }
 },
 "nbformat": 4,
 "nbformat_minor": 5
}
